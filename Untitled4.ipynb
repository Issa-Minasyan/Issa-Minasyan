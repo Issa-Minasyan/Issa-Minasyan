{
  "nbformat": 4,
  "nbformat_minor": 0,
  "metadata": {
    "colab": {
      "name": "Untitled4.ipynb",
      "provenance": [],
      "authorship_tag": "ABX9TyNXQEIi1Ur8KuucooFxDR/8"
    },
    "kernelspec": {
      "name": "python3",
      "display_name": "Python 3"
    },
    "language_info": {
      "name": "python"
    }
  },
  "cells": [
    {
      "cell_type": "code",
      "execution_count": null,
      "metadata": {
        "id": "2rlRQYK6NgkN"
      },
      "outputs": [],
      "source": [
        ""
      ]
    }
  ]
}